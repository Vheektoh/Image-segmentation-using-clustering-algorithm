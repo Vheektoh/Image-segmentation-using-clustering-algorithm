{
 "cells": [
  {
   "cell_type": "markdown",
   "id": "d0a83686",
   "metadata": {},
   "source": [
    "## PERFORMANCE EVALUATION OF CLUSTERING TECHNIQUES FOR IMAGE SEGMENTATION"
   ]
  },
  {
   "cell_type": "markdown",
   "id": "e1cce718",
   "metadata": {},
   "source": [
    "Image segmentation is a highly useful technique for digital picture processing and image analysis, and clustering is an approach that has been severally applied to this task in the literature. This notebook focuses on the implementation of these clustering algorithms with respect to image segmentation, and the performance evaluation on each algorithm.\n",
    "First of all, clustering is an unsupervised technique in which the model groups data point using similar characteristics of those point using statistical features. It doesnt involve using labels when training like the supervised techniques therefore evaluation of clustering techniques is often overlooked as there are no labels and targets for the evaluation. \n",
    "In respect to this, the approach we would take is the \"ground truth\" method, where a ground truth is given as the measure of performance accoriding to the dataset in question."
   ]
  },
  {
   "cell_type": "markdown",
   "id": "8cb97e4c",
   "metadata": {},
   "source": [
    "#### Methdology for finding the predicted and the ground truth binary mask"
   ]
  },
  {
   "cell_type": "markdown",
   "id": "58375b03",
   "metadata": {},
   "source": [
    "When performing clustering on image segmentation, we would use only the image itself without applying the depth and masks so therefore the technique of clustering would be used to partition data points into cluster based on feature vectors. Depth would have been used here if we were not applying clustering. For performance evaluation, the predicted binary mask and the ground truth binary mask would be compared; the predicted mask is gotten after the clustering algorithm has been performed, cluster labels obtained and converted to binary mask while the ground truth binary mask can be gotten by manual dataset annotation or from an already existing labelled datasets."
   ]
  },
  {
   "cell_type": "markdown",
   "id": "2eb2f376",
   "metadata": {},
   "source": [
    "## Dataset"
   ]
  },
  {
   "cell_type": "markdown",
   "id": "f5a6cf91",
   "metadata": {},
   "source": [
    "We would be using the widely used carvana dataset for computer vision which comprises of different images of car images and masks in form of images . This dataset contain the images and masks contents. For detailed information and guidelines on the dataset, the official website is as follows:\n",
    "https://www.kaggle.com/c/carvana-image-masking-challenge"
   ]
  },
  {
   "cell_type": "markdown",
   "id": "5e233106",
   "metadata": {},
   "source": [
    "### Implementation"
   ]
  },
  {
   "cell_type": "markdown",
   "id": "bc4d14ac",
   "metadata": {},
   "source": [
    "This notebook will be implemented using python mainly as the programming language and the pytorch framework for deep learning and sklearn library for classical machine learning algorithms."
   ]
  },
  {
   "cell_type": "markdown",
   "id": "b15ad091",
   "metadata": {},
   "source": [
    "### Importing relevant libraries to prepare dataset"
   ]
  },
  {
   "cell_type": "code",
   "execution_count": 2,
   "id": "015c3629",
   "metadata": {},
   "outputs": [],
   "source": [
    "import skimage"
   ]
  },
  {
   "cell_type": "code",
   "execution_count": 1,
   "id": "c5477b68",
   "metadata": {},
   "outputs": [],
   "source": [
    "import torch\n",
    "from torch.utils.data import Dataset\n",
    "from torch.utils.data import DataLoader\n",
    "from torchvision.transforms import ToTensor, transforms, InterpolationMode\n",
    "import os\n",
    "import numpy as np\n",
    "from PIL import Image\n",
    "from skimage import io\n",
    "import matplotlib.pyplot as plt\n",
    "import warnings\n",
    "warnings.filterwarnings(\"ignore\")"
   ]
  },
  {
   "cell_type": "code",
   "execution_count": 2,
   "id": "f7b75593",
   "metadata": {},
   "outputs": [],
   "source": [
    "root_dir =  \"./car-segmentation\"\n",
    "image_file = \"./car-segmentation/images\"\n",
    "mask_file = \"./car-segmentation/masks\""
   ]
  },
  {
   "cell_type": "markdown",
   "id": "391d5c6f",
   "metadata": {},
   "source": [
    "### Creating a custom dataclass for the Carvana dataset"
   ]
  },
  {
   "cell_type": "code",
   "execution_count": 3,
   "id": "a9c66eca",
   "metadata": {},
   "outputs": [],
   "source": [
    "class CustomCarvanaDataset(Dataset):\n",
    "    def __init__(self, root_dir, image_file, mask_file, transform = None):\n",
    "        self.root_dir = root_dir\n",
    "        self.image_file = image_file\n",
    "        self.mask_file = mask_file\n",
    "        self.image_file_paths = [os.path.join(image_file, img) for img in (os.listdir(image_file))]\n",
    "        self.mask_file_paths = [os.path.join(mask_file, mask) for mask in (os.listdir(mask_file))]\n",
    "        self.transform = transform\n",
    "        \n",
    "    def __len__(self):\n",
    "        return len(self.image_file_paths)\n",
    "    \n",
    "    def ground_truth_bin_mask(self):\n",
    "        for root, _, files in os.walk(self.mask_fil):\n",
    "            for file_name in files:\n",
    "                gif_path = os.path.join(root, file_name)\n",
    "                image_m = io.imread(gif_path)\n",
    "                image_m = np.array(image_m)\n",
    "                image_m[image_m] = 1\n",
    "            return image_m        \n",
    "        \n",
    "    def __getitem__(self, idx):\n",
    "        image_path = self.image_file_paths[idx]\n",
    "        mask = self.mask_file_paths[idx]\n",
    "        image = np.array(Image.open(image_path).convert(\"L\").resize((400, 400)))\n",
    "        image_mask = np.array(Image.open(mask).resize((400, 400)))\n",
    "        image_mask[image_mask > 0 ] = 1        \n",
    "    \n",
    "        return image, image_mask"
   ]
  },
  {
   "cell_type": "markdown",
   "id": "1e56d2ce",
   "metadata": {},
   "source": [
    "Now we apply data augmentation using transforms. This augmentation helps to increase the dataset size and model performance.Some augmentations such as rotations and flips can help the model learn to be invariant to the transforms. We will implement the resize, rotation, horizontal and vertical flip transforms."
   ]
  },
  {
   "cell_type": "code",
   "execution_count": 5,
   "id": "4d583950",
   "metadata": {},
   "outputs": [],
   "source": [
    "dataset = CustomCarvanaDataset(root_dir = root_dir, image_file = image_file, mask_file = mask_file)"
   ]
  },
  {
   "cell_type": "code",
   "execution_count": 6,
   "id": "747fd9e9",
   "metadata": {},
   "outputs": [
    {
     "data": {
      "text/plain": [
       "2"
      ]
     },
     "execution_count": 6,
     "metadata": {},
     "output_type": "execute_result"
    }
   ],
   "source": [
    "len(dataset[0])"
   ]
  },
  {
   "cell_type": "code",
   "execution_count": null,
   "id": "7463a356",
   "metadata": {},
   "outputs": [],
   "source": [
    "ground_bin_mask.shape"
   ]
  },
  {
   "cell_type": "code",
   "execution_count": null,
   "id": "a834bd5a",
   "metadata": {},
   "outputs": [],
   "source": [
    "inputs = first_batch"
   ]
  },
  {
   "cell_type": "code",
   "execution_count": null,
   "id": "034208cf",
   "metadata": {},
   "outputs": [],
   "source": [
    "inputs[0].shape"
   ]
  },
  {
   "cell_type": "markdown",
   "id": "ae6f6b19",
   "metadata": {},
   "source": [
    "## APPLYING THE CLUSTERING ALGORITHMS"
   ]
  },
  {
   "cell_type": "markdown",
   "id": "c96cc94d",
   "metadata": {},
   "source": [
    "Now we apply 7 different clustering techniques on the above dataset to see which one performs better in comparison with our ground-truth value. The clustering algorithms we would implement are;\n",
    "- K-means clustering\n",
    "- Fuzzy C-means clustering\n",
    "- Hierarchical clustering\n",
    "- DBSCAN\n",
    "- Mean-Shift clustering\n",
    "- Spectral clustering\n",
    "- Gaussian mixture models.\n",
    "\n",
    "After which we would evaluate using some metrics such as;\n",
    "- Jaccard index\n",
    "- Rand index\n",
    "- Fowlkes-Mallows index\n",
    "- Precision, Recall, F1-score."
   ]
  },
  {
   "cell_type": "markdown",
   "id": "092ac0c8",
   "metadata": {},
   "source": [
    "## Importing the libraries for the metrics for evaluation"
   ]
  },
  {
   "cell_type": "code",
   "execution_count": null,
   "id": "bdd1137f",
   "metadata": {},
   "outputs": [],
   "source": [
    "from sklearn.metrics import jaccard_score, adjusted_rand_score, fowlkes_mallows_score, precision_score, recall_score, f1_score"
   ]
  },
  {
   "cell_type": "markdown",
   "id": "e08c8698",
   "metadata": {},
   "source": [
    "## K-means clustering"
   ]
  },
  {
   "cell_type": "code",
   "execution_count": null,
   "id": "314e9be8",
   "metadata": {},
   "outputs": [],
   "source": [
    "from sklearn.cluster import KMeans"
   ]
  },
  {
   "cell_type": "code",
   "execution_count": null,
   "id": "57ceecab",
   "metadata": {},
   "outputs": [],
   "source": [
    "# getting data from the dataloader\n",
    "X_train = []\n",
    "y_train = []\n",
    "for i in range(len(dataset)):\n",
    "    x, y = dataset[i]\n",
    "    X_train.append(x)\n",
    "    y_train.append(y)\n",
    "    \n",
    "X_train = np.array(X_train)\n",
    "y_train = np.array(y_train)"
   ]
  },
  {
   "cell_type": "code",
   "execution_count": null,
   "id": "b32e9b18",
   "metadata": {},
   "outputs": [],
   "source": [
    "X_train.shape, y_train.shape"
   ]
  },
  {
   "cell_type": "markdown",
   "id": "73877c76",
   "metadata": {},
   "source": [
    "#### elblow method to determine k"
   ]
  },
  {
   "cell_type": "code",
   "execution_count": null,
   "id": "5b81e908",
   "metadata": {},
   "outputs": [],
   "source": [
    "def determine_best_k(data, max_k):\n",
    "    distortions = []\n",
    "    for k in range(1, max_k + 1):\n",
    "        kmeans = KMeans(n_clusters = k, random_state = 0)\n",
    "        kmeans.fit(data)\n",
    "        distortions.append(kmeans.inertia_)\n",
    "    \n",
    "    # plot elbow\n",
    "    plt.plot(range(1, max_k + 1), distortions, marker = \"o\")\n",
    "    plt.xlabel(\"Number of clusters (k)\")\n",
    "    plt.ylabel(\"Distortion\")\n",
    "    plt.title(\"elbow\")\n",
    "    plt.show()\n",
    "    \n",
    "    #determine best k based on elbow\n",
    "    deltas = np.diff(distortions)\n",
    "    acceleration = np.diff(deltas)\n",
    "    best_k = acceleration.argmax() + 2\n",
    "    \n",
    "    return best_k"
   ]
  },
  {
   "cell_type": "code",
   "execution_count": null,
   "id": "f86bf1ee",
   "metadata": {},
   "outputs": [],
   "source": [
    "max_k = 5"
   ]
  },
  {
   "cell_type": "code",
   "execution_count": null,
   "id": "452c4c5f",
   "metadata": {},
   "outputs": [],
   "source": [
    "best_k = determine_best_k(kmeans_flat, max_k)"
   ]
  },
  {
   "cell_type": "code",
   "execution_count": null,
   "id": "0ad8d3a4",
   "metadata": {},
   "outputs": [],
   "source": [
    "X_train = X_train.reshape((X_train.shape[0], X_train.shape[1] * X_train.shape[2]))"
   ]
  },
  {
   "cell_type": "code",
   "execution_count": null,
   "id": "c8c5db5a",
   "metadata": {},
   "outputs": [],
   "source": [
    "# create and fit the kmeans model using the best k from the elbow method\n",
    "kmeans = KMeans(n_clusters=2)"
   ]
  },
  {
   "cell_type": "code",
   "execution_count": null,
   "id": "a17c6454",
   "metadata": {},
   "outputs": [],
   "source": [
    "kmeans.fit(X_train)"
   ]
  },
  {
   "cell_type": "code",
   "execution_count": null,
   "id": "c8ce47d6",
   "metadata": {},
   "outputs": [],
   "source": [
    "cluster_labels = kmeans.labels_"
   ]
  },
  {
   "cell_type": "code",
   "execution_count": null,
   "id": "918bbde2",
   "metadata": {},
   "outputs": [],
   "source": [
    "cluster_labels"
   ]
  },
  {
   "cell_type": "markdown",
   "id": "3c4f6280",
   "metadata": {},
   "source": [
    "#### converting cluster labels to binary mask"
   ]
  },
  {
   "cell_type": "code",
   "execution_count": null,
   "id": "190717cd",
   "metadata": {},
   "outputs": [],
   "source": [
    "image_shape = (508800, 100)"
   ]
  },
  {
   "cell_type": "code",
   "execution_count": null,
   "id": "3b96d733",
   "metadata": {},
   "outputs": [],
   "source": [
    "pred_binary_mask = np.zeros(image_shape, dtype = np.uint8)\n",
    "for label, pixel_value in enumerate(np.unique(cluster_labels)):\n",
    "    pred_binary_mask[np.where(np.array(cluster_labels) == pixel_value)] = label"
   ]
  },
  {
   "cell_type": "code",
   "execution_count": null,
   "id": "5fb6cabf",
   "metadata": {},
   "outputs": [],
   "source": [
    "plt.imshow(pred_binary_mask)"
   ]
  },
  {
   "cell_type": "code",
   "execution_count": null,
   "id": "a072df68",
   "metadata": {},
   "outputs": [],
   "source": [
    "ground_bin_mask"
   ]
  },
  {
   "cell_type": "code",
   "execution_count": null,
   "id": "672ea895",
   "metadata": {
    "scrolled": false
   },
   "outputs": [],
   "source": [
    "pred_binary_mask.shape"
   ]
  },
  {
   "cell_type": "code",
   "execution_count": null,
   "id": "e6fe728d",
   "metadata": {
    "scrolled": true
   },
   "outputs": [],
   "source": [
    "ground_bin_mask.shape"
   ]
  },
  {
   "cell_type": "markdown",
   "id": "91fbc6f7",
   "metadata": {},
   "source": [
    "#### resizing the predicted binary mask to the ground binary mask"
   ]
  },
  {
   "cell_type": "code",
   "execution_count": null,
   "id": "d5f5b6f2",
   "metadata": {},
   "outputs": [],
   "source": [
    "from skimage.transform import resize"
   ]
  },
  {
   "cell_type": "code",
   "execution_count": null,
   "id": "622f70db",
   "metadata": {},
   "outputs": [],
   "source": [
    "target_size = ground_bin_mask.shape"
   ]
  },
  {
   "cell_type": "code",
   "execution_count": null,
   "id": "a2a7db9c",
   "metadata": {},
   "outputs": [],
   "source": [
    "resized_pred_bin_mask = resize(pred_binary_mask, target_size, order=0, mode=\"constant\", anti_aliasing=False)"
   ]
  },
  {
   "cell_type": "code",
   "execution_count": null,
   "id": "c4bd9fee",
   "metadata": {},
   "outputs": [],
   "source": [
    "resized_pred_bin_mask.shape"
   ]
  },
  {
   "cell_type": "code",
   "execution_count": null,
   "id": "33936fc7",
   "metadata": {},
   "outputs": [],
   "source": [
    "from scipy.ndimage import zoom"
   ]
  },
  {
   "cell_type": "code",
   "execution_count": null,
   "id": "17e84e37",
   "metadata": {},
   "outputs": [],
   "source": [
    "#resized_ground_mask = zoom(ground_bin_mask, (508800/1280, 100/1918))"
   ]
  },
  {
   "cell_type": "code",
   "execution_count": null,
   "id": "e8eaca2a",
   "metadata": {},
   "outputs": [],
   "source": [
    "#resized_ground_mask"
   ]
  },
  {
   "cell_type": "code",
   "execution_count": null,
   "id": "699f3b26",
   "metadata": {},
   "outputs": [],
   "source": [
    "#resized_ground_mask.shape"
   ]
  },
  {
   "cell_type": "code",
   "execution_count": null,
   "id": "642b3aa5",
   "metadata": {},
   "outputs": [],
   "source": [
    "# flattening the arrays to 1D\n",
    "ground_bin_mask_flat = ground_bin_mask.ravel()\n",
    "pred_bin_mask_flat = pred_binary_mask.ravel()"
   ]
  },
  {
   "cell_type": "markdown",
   "id": "55c20bd9",
   "metadata": {},
   "source": [
    "#### jaccard index evaluation"
   ]
  },
  {
   "cell_type": "code",
   "execution_count": null,
   "id": "61acad67",
   "metadata": {},
   "outputs": [],
   "source": [
    "jaccard_index = jaccard_score(ground_bin_mask_flat, resized_pred_bin_mask_flat)"
   ]
  },
  {
   "cell_type": "code",
   "execution_count": null,
   "id": "cfb10aa6",
   "metadata": {},
   "outputs": [],
   "source": [
    "jaccard_index"
   ]
  },
  {
   "cell_type": "markdown",
   "id": "aeba14cd",
   "metadata": {},
   "source": [
    "#### rand index"
   ]
  },
  {
   "cell_type": "code",
   "execution_count": null,
   "id": "b5112235",
   "metadata": {},
   "outputs": [],
   "source": [
    "rand_index = adjusted_rand_score(ground_bin_mask_flat, resized_pred_bin_mask_flat)"
   ]
  },
  {
   "cell_type": "code",
   "execution_count": null,
   "id": "b7516632",
   "metadata": {},
   "outputs": [],
   "source": [
    "rand_index"
   ]
  },
  {
   "cell_type": "markdown",
   "id": "2ad82d2f",
   "metadata": {},
   "source": [
    "#### fowlkes mallow score"
   ]
  },
  {
   "cell_type": "code",
   "execution_count": null,
   "id": "7a55fe65",
   "metadata": {},
   "outputs": [],
   "source": [
    "fowlkes_score = fowlkes_mallows_score(ground_bin_mask_flat, resized_pred_bin_mask_flat)"
   ]
  },
  {
   "cell_type": "code",
   "execution_count": null,
   "id": "5d122d7d",
   "metadata": {},
   "outputs": [],
   "source": [
    "fowlkes_score"
   ]
  },
  {
   "cell_type": "markdown",
   "id": "3cd143b5",
   "metadata": {},
   "source": [
    "#### precision score"
   ]
  },
  {
   "cell_type": "code",
   "execution_count": null,
   "id": "26820538",
   "metadata": {},
   "outputs": [],
   "source": [
    "precision = precision_score(ground_bin_mask_flat, resized_pred_bin_mask_flat)"
   ]
  },
  {
   "cell_type": "code",
   "execution_count": null,
   "id": "f464ddc7",
   "metadata": {},
   "outputs": [],
   "source": [
    "precision"
   ]
  },
  {
   "cell_type": "markdown",
   "id": "1cc82a4a",
   "metadata": {},
   "source": [
    "#### recall score"
   ]
  },
  {
   "cell_type": "code",
   "execution_count": null,
   "id": "22c2fd6f",
   "metadata": {},
   "outputs": [],
   "source": [
    "recall = recall_score(ground_bin_mask_flat, resized_pred_bin_mask_flat)"
   ]
  },
  {
   "cell_type": "code",
   "execution_count": null,
   "id": "67020b3c",
   "metadata": {},
   "outputs": [],
   "source": [
    "recall"
   ]
  },
  {
   "cell_type": "markdown",
   "id": "729376c3",
   "metadata": {},
   "source": [
    "#### f1 score"
   ]
  },
  {
   "cell_type": "code",
   "execution_count": null,
   "id": "acc30f6a",
   "metadata": {},
   "outputs": [],
   "source": [
    "f1_score = f1_score(ground_bin_mask_flat, resized_pred_bin_mask_flat)"
   ]
  },
  {
   "cell_type": "code",
   "execution_count": null,
   "id": "8fad09f2",
   "metadata": {},
   "outputs": [],
   "source": [
    "f1_score"
   ]
  },
  {
   "cell_type": "markdown",
   "id": "96b731de",
   "metadata": {},
   "source": [
    "## Fuzzy C-means clustering"
   ]
  },
  {
   "cell_type": "code",
   "execution_count": null,
   "id": "db6f5df7",
   "metadata": {},
   "outputs": [],
   "source": []
  }
 ],
 "metadata": {
  "kernelspec": {
   "display_name": "Python 3 (ipykernel)",
   "language": "python",
   "name": "python3"
  },
  "language_info": {
   "codemirror_mode": {
    "name": "ipython",
    "version": 3
   },
   "file_extension": ".py",
   "mimetype": "text/x-python",
   "name": "python",
   "nbconvert_exporter": "python",
   "pygments_lexer": "ipython3",
   "version": "3.10.9"
  }
 },
 "nbformat": 4,
 "nbformat_minor": 5
}
