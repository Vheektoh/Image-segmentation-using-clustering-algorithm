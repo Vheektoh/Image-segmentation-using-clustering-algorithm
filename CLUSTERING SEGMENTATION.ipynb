{
 "cells": [
  {
   "cell_type": "markdown",
   "id": "d0a83686",
   "metadata": {},
   "source": [
    "## PERFORMANCE EVALUATION OF CLUSTERING TECHNIQUES FOR IMAGE SEGMENTATION"
   ]
  },
  {
   "cell_type": "markdown",
   "id": "e1cce718",
   "metadata": {},
   "source": [
    "Image segmentation is a highly useful technique for digital picture processing and image analysis, and clustering is an approach that has been severally applied to this task in the literature. This notebook focuses on the implementation of these clustering algorithms with respect to image segmentation, and the performance evaluation on each algorithm.\n",
    "First of all, clustering is an unsupervised technique in which the model groups data point using similar characteristics of those point using statistical features. It doesnt involve using labels when training like the supervised techniques therefore evaluation of clustering techniques is often overlooked as there are no labels and targets for the evaluation. \n",
    "In respect to this, the approach we would take is the \"ground truth\" method, where a ground truth is given as the measure of performance accoriding to the dataset in question."
   ]
  },
  {
   "cell_type": "markdown",
   "id": "8cb97e4c",
   "metadata": {},
   "source": [
    "#### Methdology for finding the predicted and the ground truth binary mask"
   ]
  },
  {
   "cell_type": "markdown",
   "id": "58375b03",
   "metadata": {},
   "source": [
    "When performing clustering on image segmentation, we would use only the image itself without applying the depth and masks so therefore the technique of clustering would be used to partition data points into cluster based on feature vectors. Depth would have been used here if we were not applying clustering. For performance evaluation, the predicted binary mask and the ground truth binary mask would be compared; the predicted mask is gotten after the clustering algorithm has been performed, cluster labels obtained and converted to binary mask while the ground truth binary mask can be gotten by manual dataset annotation or from an already existing labelled datasets."
   ]
  },
  {
   "cell_type": "markdown",
   "id": "2eb2f376",
   "metadata": {},
   "source": [
    "## Dataset"
   ]
  },
  {
   "cell_type": "markdown",
   "id": "f5a6cf91",
   "metadata": {},
   "source": [
    "We would be using the widely used carvana dataset for computer vision which comprises of different images of car images and masks in form of images . This dataset contain the images and masks contents. For detailed information and guidelines on the dataset, the official website is as follows:\n",
    "https://www.kaggle.com/c/carvana-image-masking-challenge"
   ]
  },
  {
   "cell_type": "markdown",
   "id": "5e233106",
   "metadata": {},
   "source": [
    "### Implementation"
   ]
  },
  {
   "cell_type": "markdown",
   "id": "bc4d14ac",
   "metadata": {},
   "source": [
    "This notebook will be implemented using python mainly as the programming language and the pytorch framework for deep learning and sklearn library for classical machine learning algorithms."
   ]
  },
  {
   "cell_type": "markdown",
   "id": "b15ad091",
   "metadata": {},
   "source": [
    "### Importing relevant libraries to prepare dataset"
   ]
  },
  {
   "cell_type": "code",
   "execution_count": 1,
   "id": "015c3629",
   "metadata": {},
   "outputs": [],
   "source": [
    "import skimage"
   ]
  },
  {
   "cell_type": "code",
   "execution_count": 2,
   "id": "c5477b68",
   "metadata": {},
   "outputs": [],
   "source": [
    "import torch\n",
    "from torch.utils.data import Dataset\n",
    "from torch.utils.data import DataLoader\n",
    "from torchvision.transforms import ToTensor, transforms\n",
    "import os\n",
    "import numpy as np\n",
    "from PIL import Image\n",
    "from skimage import io\n",
    "import matplotlib.pyplot as plt\n",
    "import warnings\n",
    "warnings.filterwarnings(\"ignore\")"
   ]
  },
  {
   "cell_type": "code",
   "execution_count": 3,
   "id": "f7b75593",
   "metadata": {},
   "outputs": [],
   "source": [
    "root_dir =  \"C:/Users/Hp/Documents/ML/SEGMENTATION\"\n",
    "image_file = \"C:/Users/Hp/Documents/ML/SEGMENTATION/train\"\n",
    "mask_file = \"C:/Users/Hp/Documents/ML/SEGMENTATION/train_masks\""
   ]
  },
  {
   "cell_type": "markdown",
   "id": "391d5c6f",
   "metadata": {},
   "source": [
    "### Creating a custom dataclass for the Carvana dataset"
   ]
  },
  {
   "cell_type": "code",
   "execution_count": 4,
   "id": "a9c66eca",
   "metadata": {},
   "outputs": [],
   "source": [
    "class CustomCarvanaDataset(Dataset):\n",
    "    def __init__(self, root_dir, image_file, mask_file, transform = None):\n",
    "        self.root_dir = root_dir\n",
    "        self.image_file = image_file\n",
    "        self.mask_file = mask_file\n",
    "        self.image_file_paths = [os.path.join(image_file, img) for img in (os.listdir(image_file))]\n",
    "        self.mask_file_paths = [os.path.join(mask_file, mask) for mask in (os.listdir(mask_file))]\n",
    "        self.transform = transform\n",
    "        \n",
    "    def __len__(self):\n",
    "        return len(self.image_file_paths)\n",
    "    \n",
    "    def ground_truth_bin_mask(self):\n",
    "        for root, _, files in os.walk(mask_file):\n",
    "            for file_name in files:\n",
    "                gif_path = os.path.join(root, file_name)\n",
    "                image_m = io.imread(gif_path)\n",
    "                image_m = np.array(image_m)\n",
    "                image_m[image_m > 0] = 1\n",
    "            return image_m        \n",
    "        \n",
    "    def __getitem__(self, idx):\n",
    "        image_path = self.image_file_paths[idx]\n",
    "        mask = self.mask_file_paths[idx]\n",
    "        image = Image.open(image_path).convert(\"L\")\n",
    "        \n",
    "        if self.transform:\n",
    "            image = self.transform(image)\n",
    "        return image, mask"
   ]
  },
  {
   "cell_type": "markdown",
   "id": "1e56d2ce",
   "metadata": {},
   "source": [
    "Now we apply data augmentation using transforms. This augmentation helps to increase the dataset size and model performance.Some augmentations such as rotations and flips can help the model learn to be invariant to the transforms. We will implement the resize, rotation, horizontal and vertical flip transforms."
   ]
  },
  {
   "cell_type": "code",
   "execution_count": 5,
   "id": "58e22c77",
   "metadata": {},
   "outputs": [],
   "source": [
    "## defining transforms\n",
    "transform = transforms.Compose([\n",
    "    transforms.Resize((100, 100)),\n",
    "    transforms.RandomRotation(degrees=10),\n",
    "    transforms.RandomHorizontalFlip(),\n",
    "    transforms.RandomVerticalFlip(),\n",
    "    transforms.ToTensor()\n",
    "])"
   ]
  },
  {
   "cell_type": "code",
   "execution_count": 6,
   "id": "4d583950",
   "metadata": {},
   "outputs": [],
   "source": [
    "dataset = CustomCarvanaDataset(root_dir = root_dir, image_file = image_file, mask_file = mask_file, transform=transform)"
   ]
  },
  {
   "cell_type": "code",
   "execution_count": 7,
   "id": "e2693d60",
   "metadata": {},
   "outputs": [],
   "source": [
    "#dataloader\n",
    "dataloader = DataLoader(dataset, batch_size=32, shuffle=True)"
   ]
  },
  {
   "cell_type": "code",
   "execution_count": 8,
   "id": "a7b7f86f",
   "metadata": {},
   "outputs": [],
   "source": [
    "# checking the shape\n",
    "first_batch = next(iter(dataloader))"
   ]
  },
  {
   "cell_type": "code",
   "execution_count": 9,
   "id": "febba9e0",
   "metadata": {},
   "outputs": [],
   "source": [
    "ground_bin_mask = dataset.ground_truth_bin_mask()"
   ]
  },
  {
   "cell_type": "code",
   "execution_count": 10,
   "id": "7463a356",
   "metadata": {},
   "outputs": [
    {
     "data": {
      "text/plain": [
       "(1280, 1918)"
      ]
     },
     "execution_count": 10,
     "metadata": {},
     "output_type": "execute_result"
    }
   ],
   "source": [
    "ground_bin_mask.shape"
   ]
  },
  {
   "cell_type": "code",
   "execution_count": 11,
   "id": "a834bd5a",
   "metadata": {},
   "outputs": [],
   "source": [
    "inputs = first_batch"
   ]
  },
  {
   "cell_type": "code",
   "execution_count": 12,
   "id": "034208cf",
   "metadata": {},
   "outputs": [
    {
     "data": {
      "text/plain": [
       "torch.Size([32, 1, 100, 100])"
      ]
     },
     "execution_count": 12,
     "metadata": {},
     "output_type": "execute_result"
    }
   ],
   "source": [
    "inputs[0].shape"
   ]
  },
  {
   "cell_type": "markdown",
   "id": "ae6f6b19",
   "metadata": {},
   "source": [
    "## APPLYING THE CLUSTERING ALGORITHMS"
   ]
  },
  {
   "cell_type": "markdown",
   "id": "c96cc94d",
   "metadata": {},
   "source": [
    "Mertics for evaluation:\n",
    "- Jaccard index\n",
    "- Rand index\n",
    "- Fowlkes-Mallows index\n",
    "- Precision, Recall, F1-score."
   ]
  },
  {
   "cell_type": "markdown",
   "id": "092ac0c8",
   "metadata": {},
   "source": [
    "## Importing the libraries for the metrics for evaluation"
   ]
  },
  {
   "cell_type": "code",
   "execution_count": 13,
   "id": "bdd1137f",
   "metadata": {},
   "outputs": [],
   "source": [
    "from sklearn.metrics import jaccard_score, adjusted_rand_score, fowlkes_mallows_score, precision_score, recall_score, f1_score"
   ]
  },
  {
   "cell_type": "markdown",
   "id": "e08c8698",
   "metadata": {},
   "source": [
    "## K-means clustering"
   ]
  },
  {
   "cell_type": "code",
   "execution_count": 14,
   "id": "314e9be8",
   "metadata": {},
   "outputs": [],
   "source": [
    "from sklearn.cluster import KMeans"
   ]
  },
  {
   "cell_type": "code",
   "execution_count": 15,
   "id": "57ceecab",
   "metadata": {},
   "outputs": [],
   "source": [
    "# getting data from the dataloader\n",
    "kmeans_data = []\n",
    "for batch in dataloader:\n",
    "    kmeans_data.append(batch[0])\n",
    "kmeans_data_1 = torch.cat(kmeans_data, dim=0).numpy()"
   ]
  },
  {
   "cell_type": "code",
   "execution_count": 16,
   "id": "b32e9b18",
   "metadata": {},
   "outputs": [
    {
     "data": {
      "text/plain": [
       "torch.Size([32, 1, 100, 100])"
      ]
     },
     "execution_count": 16,
     "metadata": {},
     "output_type": "execute_result"
    }
   ],
   "source": [
    "kmeans_data[0].shape"
   ]
  },
  {
   "cell_type": "markdown",
   "id": "73877c76",
   "metadata": {},
   "source": [
    "#### elblow method to determine k"
   ]
  },
  {
   "cell_type": "code",
   "execution_count": 17,
   "id": "0532d1d2",
   "metadata": {},
   "outputs": [
    {
     "data": {
      "text/plain": [
       "(5088, 1, 100, 100)"
      ]
     },
     "execution_count": 17,
     "metadata": {},
     "output_type": "execute_result"
    }
   ],
   "source": [
    "# checking the shape of the data and found out to be 5D\n",
    "kmeans_data_1.shape"
   ]
  },
  {
   "cell_type": "code",
   "execution_count": 18,
   "id": "3b9a067b",
   "metadata": {},
   "outputs": [],
   "source": [
    "# converting the 4D array to a 2D array to fit the kmeans model\n",
    "kmeans_flat = kmeans_data_1.reshape((5088 * 1 * 100, 100))"
   ]
  },
  {
   "cell_type": "code",
   "execution_count": 19,
   "id": "5b81e908",
   "metadata": {},
   "outputs": [],
   "source": [
    "def determine_best_k(data, max_k):\n",
    "    distortions = []\n",
    "    for k in range(1, max_k + 1):\n",
    "        kmeans = KMeans(n_clusters = k, random_state = 0)\n",
    "        kmeans.fit(data)\n",
    "        distortions.append(kmeans.inertia_)\n",
    "    \n",
    "    # plot elbow\n",
    "    plt.plot(range(1, max_k + 1), distortions, marker = \"o\")\n",
    "    plt.xlabel(\"Number of clusters (k)\")\n",
    "    plt.ylabel(\"Distortion\")\n",
    "    plt.title(\"elbow\")\n",
    "    plt.show()\n",
    "    \n",
    "    #determine best k based on elbow\n",
    "    deltas = np.diff(distortions)\n",
    "    acceleration = np.diff(deltas)\n",
    "    best_k = acceleration.argmax() + 2\n",
    "    \n",
    "    return best_k"
   ]
  },
  {
   "cell_type": "code",
   "execution_count": 20,
   "id": "f86bf1ee",
   "metadata": {},
   "outputs": [],
   "source": [
    "max_k = 5"
   ]
  },
  {
   "cell_type": "code",
   "execution_count": 21,
   "id": "452c4c5f",
   "metadata": {},
   "outputs": [
    {
     "data": {
      "image/png": "[encoded data removed]",
      "text/plain": [
       "<Figure size 640x480 with 1 Axes>"
      ]
     },
     "metadata": {},
     "output_type": "display_data"
    }
   ],
   "source": [
    "best_k = determine_best_k(kmeans_flat, max_k)"
   ]
  },
  {
   "cell_type": "code",
   "execution_count": 22,
   "id": "c8c5db5a",
   "metadata": {},
   "outputs": [],
   "source": [
    "# create and fit the kmeans model using the best k from the elbow method\n",
    "kmeans = KMeans(n_clusters=2)"
   ]
  },
  {
   "cell_type": "code",
   "execution_count": 23,
   "id": "a17c6454",
   "metadata": {},
   "outputs": [
    {
     "data": {
      "text/html": [
       "<style>#sk-container-id-1 {color: black;background-color: white;}#sk-container-id-1 pre{padding: 0;}#sk-container-id-1 div.sk-toggleable {background-color: white;}#sk-container-id-1 label.sk-toggleable__label {cursor: pointer;display: block;width: 100%;margin-bottom: 0;padding: 0.3em;box-sizing: border-box;text-align: center;}#sk-container-id-1 label.sk-toggleable__label-arrow:before {content: \"▸\";float: left;margin-right: 0.25em;color: #696969;}#sk-container-id-1 label.sk-toggleable__label-arrow:hover:before {color: black;}#sk-container-id-1 div.sk-estimator:hover label.sk-toggleable__label-arrow:before {color: black;}#sk-container-id-1 div.sk-toggleable__content {max-height: 0;max-width: 0;overflow: hidden;text-align: left;background-color: #f0f8ff;}#sk-container-id-1 div.sk-toggleable__content pre {margin: 0.2em;color: black;border-radius: 0.25em;background-color: #f0f8ff;}#sk-container-id-1 input.sk-toggleable__control:checked~div.sk-toggleable__content {max-height: 200px;max-width: 100%;overflow: auto;}#sk-container-id-1 input.sk-toggleable__control:checked~label.sk-toggleable__label-arrow:before {content: \"▾\";}#sk-container-id-1 div.sk-estimator input.sk-toggleable__control:checked~label.sk-toggleable__label {background-color: #d4ebff;}#sk-container-id-1 div.sk-label input.sk-toggleable__control:checked~label.sk-toggleable__label {background-color: #d4ebff;}#sk-container-id-1 input.sk-hidden--visually {border: 0;clip: rect(1px 1px 1px 1px);clip: rect(1px, 1px, 1px, 1px);height: 1px;margin: -1px;overflow: hidden;padding: 0;position: absolute;width: 1px;}#sk-container-id-1 div.sk-estimator {font-family: monospace;background-color: #f0f8ff;border: 1px dotted black;border-radius: 0.25em;box-sizing: border-box;margin-bottom: 0.5em;}#sk-container-id-1 div.sk-estimator:hover {background-color: #d4ebff;}#sk-container-id-1 div.sk-parallel-item::after {content: \"\";width: 100%;border-bottom: 1px solid gray;flex-grow: 1;}#sk-container-id-1 div.sk-label:hover label.sk-toggleable__label {background-color: #d4ebff;}#sk-container-id-1 div.sk-serial::before {content: \"\";position: absolute;border-left: 1px solid gray;box-sizing: border-box;top: 0;bottom: 0;left: 50%;z-index: 0;}#sk-container-id-1 div.sk-serial {display: flex;flex-direction: column;align-items: center;background-color: white;padding-right: 0.2em;padding-left: 0.2em;position: relative;}#sk-container-id-1 div.sk-item {position: relative;z-index: 1;}#sk-container-id-1 div.sk-parallel {display: flex;align-items: stretch;justify-content: center;background-color: white;position: relative;}#sk-container-id-1 div.sk-item::before, #sk-container-id-1 div.sk-parallel-item::before {content: \"\";position: absolute;border-left: 1px solid gray;box-sizing: border-box;top: 0;bottom: 0;left: 50%;z-index: -1;}#sk-container-id-1 div.sk-parallel-item {display: flex;flex-direction: column;z-index: 1;position: relative;background-color: white;}#sk-container-id-1 div.sk-parallel-item:first-child::after {align-self: flex-end;width: 50%;}#sk-container-id-1 div.sk-parallel-item:last-child::after {align-self: flex-start;width: 50%;}#sk-container-id-1 div.sk-parallel-item:only-child::after {width: 0;}#sk-container-id-1 div.sk-dashed-wrapped {border: 1px dashed gray;margin: 0 0.4em 0.5em 0.4em;box-sizing: border-box;padding-bottom: 0.4em;background-color: white;}#sk-container-id-1 div.sk-label label {font-family: monospace;font-weight: bold;display: inline-block;line-height: 1.2em;}#sk-container-id-1 div.sk-label-container {text-align: center;}#sk-container-id-1 div.sk-container {/* jupyter's `normalize.less` sets `[hidden] { display: none; }` but bootstrap.min.css set `[hidden] { display: none !important; }` so we also need the `!important` here to be able to override the default hidden behavior on the sphinx rendered scikit-learn.org. See: https://github.com/scikit-learn/scikit-learn/issues/21755 */display: inline-block !important;position: relative;}#sk-container-id-1 div.sk-text-repr-fallback {display: none;}</style><div id=\"sk-container-id-1\" class=\"sk-top-container\"><div class=\"sk-text-repr-fallback\"><pre>KMeans(n_clusters=2)</pre><b>In a Jupyter environment, please rerun this cell to show the HTML representation or trust the notebook. <br />On GitHub, the HTML representation is unable to render, please try loading this page with nbviewer.org.</b></div><div class=\"sk-container\" hidden><div class=\"sk-item\"><div class=\"sk-estimator sk-toggleable\"><input class=\"sk-toggleable__control sk-hidden--visually\" id=\"sk-estimator-id-1\" type=\"checkbox\" checked><label for=\"sk-estimator-id-1\" class=\"sk-toggleable__label sk-toggleable__label-arrow\">KMeans</label><div class=\"sk-toggleable__content\"><pre>KMeans(n_clusters=2)</pre></div></div></div></div></div>"
      ],
      "text/plain": [
       "KMeans(n_clusters=2)"
      ]
     },
     "execution_count": 23,
     "metadata": {},
     "output_type": "execute_result"
    }
   ],
   "source": [
    "kmeans.fit(kmeans_flat)"
   ]
  },
  {
   "cell_type": "code",
   "execution_count": 24,
   "id": "c8ce47d6",
   "metadata": {},
   "outputs": [],
   "source": [
    "cluster_labels = kmeans.labels_"
   ]
  },
  {
   "cell_type": "code",
   "execution_count": 25,
   "id": "918bbde2",
   "metadata": {},
   "outputs": [
    {
     "data": {
      "text/plain": [
       "array([0, 0, 1, ..., 1, 1, 0])"
      ]
     },
     "execution_count": 25,
     "metadata": {},
     "output_type": "execute_result"
    }
   ],
   "source": [
    "cluster_labels"
   ]
  },
  {
   "cell_type": "markdown",
   "id": "3c4f6280",
   "metadata": {},
   "source": [
    "#### converting cluster labels to binary mask"
   ]
  },
  {
   "cell_type": "code",
   "execution_count": 26,
   "id": "190717cd",
   "metadata": {},
   "outputs": [],
   "source": [
    "image_shape = (508800, 100)"
   ]
  },
  {
   "cell_type": "code",
   "execution_count": 27,
   "id": "3b96d733",
   "metadata": {},
   "outputs": [],
   "source": [
    "pred_binary_mask = np.zeros(image_shape, dtype = np.uint8)\n",
    "for label, pixel_value in enumerate(np.unique(cluster_labels)):\n",
    "    pred_binary_mask[np.where(np.array(cluster_labels) == pixel_value)] = label"
   ]
  },
  {
   "cell_type": "code",
   "execution_count": 28,
   "id": "5fb6cabf",
   "metadata": {},
   "outputs": [
    {
     "data": {
      "text/plain": [
       "array([[0, 0, 0, ..., 0, 0, 0],\n",
       "       [0, 0, 0, ..., 0, 0, 0],\n",
       "       [1, 1, 1, ..., 1, 1, 1],\n",
       "       ...,\n",
       "       [1, 1, 1, ..., 1, 1, 1],\n",
       "       [1, 1, 1, ..., 1, 1, 1],\n",
       "       [1, 1, 1, ..., 1, 1, 1]], dtype=uint8)"
      ]
     },
     "execution_count": 28,
     "metadata": {},
     "output_type": "execute_result"
    }
   ],
   "source": [
    "pred_binary_mask"
   ]
  },
  {
   "cell_type": "code",
   "execution_count": 29,
   "id": "a072df68",
   "metadata": {},
   "outputs": [
    {
     "data": {
      "text/plain": [
       "array([[0, 0, 0, ..., 0, 0, 0],\n",
       "       [0, 0, 0, ..., 0, 0, 0],\n",
       "       [0, 0, 0, ..., 0, 0, 0],\n",
       "       ...,\n",
       "       [0, 0, 0, ..., 0, 0, 0],\n",
       "       [0, 0, 0, ..., 0, 0, 0],\n",
       "       [0, 0, 0, ..., 0, 0, 0]], dtype=uint8)"
      ]
     },
     "execution_count": 29,
     "metadata": {},
     "output_type": "execute_result"
    }
   ],
   "source": [
    "ground_bin_mask"
   ]
  },
  {
   "cell_type": "code",
   "execution_count": 53,
   "id": "672ea895",
   "metadata": {
    "scrolled": false
   },
   "outputs": [
    {
     "data": {
      "text/plain": [
       "(1280, 100)"
      ]
     },
     "execution_count": 53,
     "metadata": {},
     "output_type": "execute_result"
    }
   ],
   "source": [
    "pred_binary_mask.shape"
   ]
  },
  {
   "cell_type": "code",
   "execution_count": 55,
   "id": "e6fe728d",
   "metadata": {
    "scrolled": true
   },
   "outputs": [
    {
     "data": {
      "text/plain": [
       "(1280, 1918)"
      ]
     },
     "execution_count": 55,
     "metadata": {},
     "output_type": "execute_result"
    }
   ],
   "source": [
    "ground_bin_mask.shape"
   ]
  },
  {
   "cell_type": "markdown",
   "id": "91fbc6f7",
   "metadata": {},
   "source": [
    "#### resizing the predicted binary mask to the ground binary mask"
   ]
  },
  {
   "cell_type": "code",
   "execution_count": 32,
   "id": "d5f5b6f2",
   "metadata": {},
   "outputs": [],
   "source": [
    "from skimage.transform import resize"
   ]
  },
  {
   "cell_type": "code",
   "execution_count": 56,
   "id": "622f70db",
   "metadata": {},
   "outputs": [],
   "source": [
    "target_size = ground_bin_mask.shape"
   ]
  },
  {
   "cell_type": "code",
   "execution_count": 57,
   "id": "a2a7db9c",
   "metadata": {},
   "outputs": [],
   "source": [
    "resized_pred_bin_mask = resize(pred_binary_mask, target_size, order=0, mode=\"constant\", anti_aliasing=False)"
   ]
  },
  {
   "cell_type": "code",
   "execution_count": 58,
   "id": "c4bd9fee",
   "metadata": {},
   "outputs": [],
   "source": [
    "resized_pred_bin_mask.shape"
   ]
  },
  {
   "cell_type": "code",
   "execution_count": 64,
   "id": "642b3aa5",
   "metadata": {},
   "outputs": [],
   "source": [
    "# flattening the arrays to 1D\n",
    "ground_bin_mask_flat = ground_bin_mask.ravel()\n",
    "pred_bin_mask_flat = pred_binary_mask.ravel()"
   ]
  },
  {
   "cell_type": "markdown",
   "id": "55c20bd9",
   "metadata": {},
   "source": [
    "#### jaccard index evaluation"
   ]
  },
  {
   "cell_type": "code",
   "execution_count": 41,
   "id": "61acad67",
   "metadata": {},
   "outputs": [],
   "source": [
    "jaccard_index = jaccard_score(ground_bin_mask_flat, resized_pred_bin_mask_flat)"
   ]
  },
  {
   "cell_type": "code",
   "execution_count": 42,
   "id": "cfb10aa6",
   "metadata": {},
   "outputs": [
    {
     "data": {
      "text/plain": [
       "0.19668701299573196"
      ]
     },
     "execution_count": 42,
     "metadata": {},
     "output_type": "execute_result"
    }
   ],
   "source": [
    "jaccard_index"
   ]
  },
  {
   "cell_type": "markdown",
   "id": "aeba14cd",
   "metadata": {},
   "source": [
    "#### rand index"
   ]
  },
  {
   "cell_type": "code",
   "execution_count": 43,
   "id": "b5112235",
   "metadata": {},
   "outputs": [],
   "source": [
    "rand_index = adjusted_rand_score(ground_bin_mask_flat, resized_pred_bin_mask_flat)"
   ]
  },
  {
   "cell_type": "code",
   "execution_count": 44,
   "id": "b7516632",
   "metadata": {},
   "outputs": [
    {
     "data": {
      "text/plain": [
       "-0.00014352482469845803"
      ]
     },
     "execution_count": 44,
     "metadata": {},
     "output_type": "execute_result"
    }
   ],
   "source": [
    "rand_index"
   ]
  },
  {
   "cell_type": "markdown",
   "id": "2ad82d2f",
   "metadata": {},
   "source": [
    "#### fowlkes mallow score"
   ]
  },
  {
   "cell_type": "code",
   "execution_count": 45,
   "id": "7a55fe65",
   "metadata": {},
   "outputs": [],
   "source": [
    "fowlkes_score = fowlkes_mallows_score(ground_bin_mask_flat, resized_pred_bin_mask_flat)"
   ]
  },
  {
   "cell_type": "code",
   "execution_count": 46,
   "id": "5d122d7d",
   "metadata": {},
   "outputs": [
    {
     "data": {
      "text/plain": [
       "0.573078931376261"
      ]
     },
     "execution_count": 46,
     "metadata": {},
     "output_type": "execute_result"
    }
   ],
   "source": [
    "fowlkes_score"
   ]
  },
  {
   "cell_type": "markdown",
   "id": "3cd143b5",
   "metadata": {},
   "source": [
    "#### precision score"
   ]
  },
  {
   "cell_type": "code",
   "execution_count": 47,
   "id": "26820538",
   "metadata": {},
   "outputs": [],
   "source": [
    "precision = precision_score(ground_bin_mask_flat, resized_pred_bin_mask_flat)"
   ]
  },
  {
   "cell_type": "code",
   "execution_count": 48,
   "id": "f464ddc7",
   "metadata": {},
   "outputs": [
    {
     "data": {
      "text/plain": [
       "0.2311153439578424"
      ]
     },
     "execution_count": 48,
     "metadata": {},
     "output_type": "execute_result"
    }
   ],
   "source": [
    "precision"
   ]
  },
  {
   "cell_type": "markdown",
   "id": "1cc82a4a",
   "metadata": {},
   "source": [
    "#### recall score"
   ]
  },
  {
   "cell_type": "code",
   "execution_count": 49,
   "id": "22c2fd6f",
   "metadata": {},
   "outputs": [],
   "source": [
    "recall = recall_score(ground_bin_mask_flat, resized_pred_bin_mask_flat)"
   ]
  },
  {
   "cell_type": "code",
   "execution_count": 50,
   "id": "67020b3c",
   "metadata": {},
   "outputs": [
    {
     "data": {
      "text/plain": [
       "0.5690302098213261"
      ]
     },
     "execution_count": 50,
     "metadata": {},
     "output_type": "execute_result"
    }
   ],
   "source": [
    "recall"
   ]
  },
  {
   "cell_type": "markdown",
   "id": "729376c3",
   "metadata": {},
   "source": [
    "#### f1 score"
   ]
  },
  {
   "cell_type": "code",
   "execution_count": 51,
   "id": "acc30f6a",
   "metadata": {},
   "outputs": [],
   "source": [
    "f1_score = f1_score(ground_bin_mask_flat, resized_pred_bin_mask_flat)"
   ]
  },
  {
   "cell_type": "code",
   "execution_count": 52,
   "id": "8fad09f2",
   "metadata": {},
   "outputs": [
    {
     "data": {
      "text/plain": [
       "0.32871922375651863"
      ]
     },
     "execution_count": 52,
     "metadata": {},
     "output_type": "execute_result"
    }
   ],
   "source": [
    "f1_score"
   ]
  }
 ],
 "metadata": {
  "kernelspec": {
   "display_name": "Python 3 (ipykernel)",
   "language": "python",
   "name": "python3"
  },
  "language_info": {
   "codemirror_mode": {
    "name": "ipython",
    "version": 3
   },
   "file_extension": ".py",
   "mimetype": "text/x-python",
   "name": "python",
   "nbconvert_exporter": "python",
   "pygments_lexer": "ipython3",
   "version": "3.10.9"
  }
 },
 "nbformat": 4,
 "nbformat_minor": 5
}
